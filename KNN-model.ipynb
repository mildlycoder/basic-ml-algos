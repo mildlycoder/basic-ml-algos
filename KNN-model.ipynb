{
 "cells": [
  {
   "cell_type": "code",
   "execution_count": 2,
   "metadata": {},
   "outputs": [],
   "source": [
    "import numpy as np\n",
    "import pandas as pd\n",
    "from sklearn.neighbors import KNeighborsClassifier\n",
    "from sklearn import preprocessing, linear_model\n",
    "from sklearn.model_selection import train_test_split"
   ]
  },
  {
   "cell_type": "code",
   "execution_count": 3,
   "metadata": {},
   "outputs": [
    {
     "data": {
      "text/html": [
       "<div>\n",
       "<style scoped>\n",
       "    .dataframe tbody tr th:only-of-type {\n",
       "        vertical-align: middle;\n",
       "    }\n",
       "\n",
       "    .dataframe tbody tr th {\n",
       "        vertical-align: top;\n",
       "    }\n",
       "\n",
       "    .dataframe thead th {\n",
       "        text-align: right;\n",
       "    }\n",
       "</style>\n",
       "<table border=\"1\" class=\"dataframe\">\n",
       "  <thead>\n",
       "    <tr style=\"text-align: right;\">\n",
       "      <th></th>\n",
       "      <th>buying</th>\n",
       "      <th>maint</th>\n",
       "      <th>doors</th>\n",
       "      <th>persons</th>\n",
       "      <th>lug_boot</th>\n",
       "      <th>safety</th>\n",
       "      <th>class</th>\n",
       "    </tr>\n",
       "  </thead>\n",
       "  <tbody>\n",
       "    <tr>\n",
       "      <th>0</th>\n",
       "      <td>vhigh</td>\n",
       "      <td>vhigh</td>\n",
       "      <td>2</td>\n",
       "      <td>2</td>\n",
       "      <td>small</td>\n",
       "      <td>low</td>\n",
       "      <td>unacc</td>\n",
       "    </tr>\n",
       "    <tr>\n",
       "      <th>1</th>\n",
       "      <td>vhigh</td>\n",
       "      <td>vhigh</td>\n",
       "      <td>2</td>\n",
       "      <td>2</td>\n",
       "      <td>small</td>\n",
       "      <td>med</td>\n",
       "      <td>unacc</td>\n",
       "    </tr>\n",
       "    <tr>\n",
       "      <th>2</th>\n",
       "      <td>vhigh</td>\n",
       "      <td>vhigh</td>\n",
       "      <td>2</td>\n",
       "      <td>2</td>\n",
       "      <td>small</td>\n",
       "      <td>high</td>\n",
       "      <td>unacc</td>\n",
       "    </tr>\n",
       "    <tr>\n",
       "      <th>3</th>\n",
       "      <td>vhigh</td>\n",
       "      <td>vhigh</td>\n",
       "      <td>2</td>\n",
       "      <td>2</td>\n",
       "      <td>med</td>\n",
       "      <td>low</td>\n",
       "      <td>unacc</td>\n",
       "    </tr>\n",
       "    <tr>\n",
       "      <th>4</th>\n",
       "      <td>vhigh</td>\n",
       "      <td>vhigh</td>\n",
       "      <td>2</td>\n",
       "      <td>2</td>\n",
       "      <td>med</td>\n",
       "      <td>med</td>\n",
       "      <td>unacc</td>\n",
       "    </tr>\n",
       "  </tbody>\n",
       "</table>\n",
       "</div>"
      ],
      "text/plain": [
       "  buying  maint doors persons lug_boot safety  class\n",
       "0  vhigh  vhigh     2       2    small    low  unacc\n",
       "1  vhigh  vhigh     2       2    small    med  unacc\n",
       "2  vhigh  vhigh     2       2    small   high  unacc\n",
       "3  vhigh  vhigh     2       2      med    low  unacc\n",
       "4  vhigh  vhigh     2       2      med    med  unacc"
      ]
     },
     "execution_count": 3,
     "metadata": {},
     "output_type": "execute_result"
    }
   ],
   "source": [
    "df = pd.read_csv('car.data', sep=\",\")\n",
    "df.head()"
   ]
  },
  {
   "cell_type": "code",
   "execution_count": 4,
   "metadata": {},
   "outputs": [],
   "source": [
    "le = preprocessing.LabelEncoder()"
   ]
  },
  {
   "cell_type": "code",
   "execution_count": 5,
   "metadata": {},
   "outputs": [],
   "source": [
    "buying = le.fit_transform(list(df[\"buying\"]))\n",
    "maint = le.fit_transform(list(df[\"maint\"]))\n",
    "door = le.fit_transform(list(df[\"doors\"]))\n",
    "persons = le.fit_transform(list(df[\"persons\"]))\n",
    "lug_boot = le.fit_transform(list(df[\"lug_boot\"]))\n",
    "safety = le.fit_transform(list(df[\"safety\"]))\n",
    "cls = le.fit_transform(list(df[\"class\"]))"
   ]
  },
  {
   "cell_type": "code",
   "execution_count": 6,
   "metadata": {},
   "outputs": [],
   "source": [
    "X = list(zip(buying, maint, door, persons, lug_boot, safety))  # features\n",
    "y = list(cls)"
   ]
  },
  {
   "cell_type": "code",
   "execution_count": 7,
   "metadata": {},
   "outputs": [],
   "source": [
    "x_train, x_test, y_train, y_test = train_test_split(X, y, test_size = 0.1)"
   ]
  },
  {
   "cell_type": "code",
   "execution_count": 13,
   "metadata": {},
   "outputs": [
    {
     "data": {
      "text/plain": [
       "0.9421965317919075"
      ]
     },
     "execution_count": 13,
     "metadata": {},
     "output_type": "execute_result"
    }
   ],
   "source": [
    "model = KNeighborsClassifier(n_neighbors=8) \n",
    "model.fit(x_train, y_train)\n",
    "acc = model.score(x_test, y_test)\n",
    "acc"
   ]
  },
  {
   "cell_type": "code",
   "execution_count": 14,
   "metadata": {},
   "outputs": [
    {
     "name": "stdout",
     "output_type": "stream",
     "text": [
      "predicted: 2\t actual data:2 \t data: (0, 3, 2, 0, 2, 0) \n",
      "predicted: 2\t actual data:2 \t data: (3, 0, 0, 0, 0, 2) \n",
      "predicted: 2\t actual data:2 \t data: (3, 1, 0, 0, 0, 2) \n",
      "predicted: 2\t actual data:2 \t data: (0, 2, 0, 2, 0, 1) \n",
      "predicted: 2\t actual data:2 \t data: (2, 3, 3, 2, 1, 1) \n",
      "predicted: 2\t actual data:0 \t data: (3, 2, 1, 2, 1, 2) \n",
      "predicted: 1\t actual data:1 \t data: (2, 1, 1, 1, 2, 0) \n",
      "predicted: 2\t actual data:2 \t data: (2, 2, 3, 0, 0, 1) \n",
      "predicted: 0\t actual data:0 \t data: (1, 2, 2, 1, 2, 2) \n",
      "predicted: 0\t actual data:0 \t data: (1, 0, 0, 1, 2, 0) \n",
      "predicted: 2\t actual data:2 \t data: (1, 3, 1, 1, 2, 2) \n",
      "predicted: 0\t actual data:0 \t data: (3, 1, 0, 1, 1, 0) \n",
      "predicted: 2\t actual data:2 \t data: (3, 2, 0, 0, 2, 0) \n",
      "predicted: 1\t actual data:1 \t data: (1, 2, 3, 2, 0, 2) \n",
      "predicted: 0\t actual data:0 \t data: (0, 2, 3, 2, 1, 2) \n"
     ]
    }
   ],
   "source": [
    "predicted = model.predict(x_test)\n",
    "names = ['acc', 'unacc', 'good', 'vgood']\n",
    "for x in range(15):\n",
    "    print(f'predicted: {predicted[x]}\\t actual data:{y_test[x]} \\t data: {x_test[x]} ')\n"
   ]
  }
 ],
 "metadata": {
  "kernelspec": {
   "display_name": "tensor",
   "language": "python",
   "name": "python3"
  },
  "language_info": {
   "codemirror_mode": {
    "name": "ipython",
    "version": 3
   },
   "file_extension": ".py",
   "mimetype": "text/x-python",
   "name": "python",
   "nbconvert_exporter": "python",
   "pygments_lexer": "ipython3",
   "version": "3.9.15"
  },
  "orig_nbformat": 4,
  "vscode": {
   "interpreter": {
    "hash": "f232e6a39610c352e8c942cdb114271f1cc7c4ba4cd4cf85a82f0048635825dd"
   }
  }
 },
 "nbformat": 4,
 "nbformat_minor": 2
}
